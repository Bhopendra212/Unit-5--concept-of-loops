{
 "cells": [
  {
   "cell_type": "markdown",
   "id": "407cd940-6bfa-49e6-89cb-67dc7ef34800",
   "metadata": {},
   "source": [
    "# While Loop"
   ]
  },
  {
   "cell_type": "code",
   "execution_count": 2,
   "id": "ec883741-e364-4f7f-b6c1-1bd9cb2f2425",
   "metadata": {},
   "outputs": [
    {
     "name": "stdin",
     "output_type": "stream",
     "text": [
      "Enter the number 10\n"
     ]
    },
    {
     "name": "stdout",
     "output_type": "stream",
     "text": [
      "1\n",
      "2\n",
      "3\n",
      "4\n",
      "5\n",
      "6\n",
      "7\n",
      "8\n",
      "9\n",
      "10\n",
      "Yes it is done\n"
     ]
    }
   ],
   "source": [
    "\"\"\" enter the value by user and print all the number in between 1 to that number\"\"\"\n",
    "\n",
    "n=int(input('Enter the number'))\n",
    "\n",
    "i=1\n",
    "while i<=n:\n",
    "    print(i)\n",
    "    i=i+1\n",
    "print('Yes it is done')"
   ]
  },
  {
   "cell_type": "code",
   "execution_count": 3,
   "id": "07c07903-c257-4c22-8900-9f5bcb5245e8",
   "metadata": {},
   "outputs": [
    {
     "name": "stdin",
     "output_type": "stream",
     "text": [
      "Enter the value 10\n"
     ]
    },
    {
     "name": "stdout",
     "output_type": "stream",
     "text": [
      "10\n",
      "20\n",
      "30\n",
      "40\n",
      "50\n",
      "60\n",
      "70\n",
      "80\n",
      "90\n",
      "100\n",
      "This is the Multiplication table\n"
     ]
    }
   ],
   "source": [
    "\"\"\" enter the value and write its multiplication table till 10\"\"\"\n",
    "\n",
    "a=int(input('Enter the value'))\n",
    "\n",
    "i=1\n",
    "while i<=10:\n",
    "    print(a*i)\n",
    "    i+=1\n",
    "print('This is the Multiplication table')"
   ]
  },
  {
   "cell_type": "code",
   "execution_count": 6,
   "id": "5a19c50f-7aa5-43a9-a38f-e3f6c3bf74f8",
   "metadata": {},
   "outputs": [
    {
     "name": "stdin",
     "output_type": "stream",
     "text": [
      "Enter the number 5\n"
     ]
    },
    {
     "name": "stdout",
     "output_type": "stream",
     "text": [
      "5\n",
      "25\n",
      "125\n",
      "625\n",
      "3125\n",
      "These are the exponential value \n"
     ]
    }
   ],
   "source": [
    "\"\"\" Take a number from user and print its exponential value till power 5\"\"\"\n",
    "\n",
    "b=int(input('Enter the number'))\n",
    "\n",
    "i=1\n",
    "while i<=5:\n",
    "    print(b**i)\n",
    "    i+=1\n",
    "\n",
    "print('These are the exponential value ')"
   ]
  },
  {
   "cell_type": "code",
   "execution_count": 2,
   "id": "d8e99cef-45ac-4a6a-bd87-08f718d76c78",
   "metadata": {},
   "outputs": [
    {
     "name": "stdin",
     "output_type": "stream",
     "text": [
      "Enter the number 20\n"
     ]
    },
    {
     "name": "stdout",
     "output_type": "stream",
     "text": [
      "2\n",
      "4\n",
      "6\n",
      "8\n",
      "10\n",
      "12\n",
      "14\n",
      "16\n",
      "18\n",
      "20\n",
      "These are the even numbers\n"
     ]
    }
   ],
   "source": [
    "\"\"\" enter the value and find out the even number in between that\"\"\"\n",
    "\n",
    "a=int(input('Enter the number'))\n",
    "i=1\n",
    "while i<=a:\n",
    "    if i%2==0:\n",
    "        print(i)\n",
    "    else:\n",
    "        pass\n",
    "\n",
    "    i+=1\n",
    "print('These are the even numbers')"
   ]
  },
  {
   "cell_type": "code",
   "execution_count": 8,
   "id": "c675b410-23e5-4574-802a-7a3117981310",
   "metadata": {},
   "outputs": [
    {
     "name": "stdin",
     "output_type": "stream",
     "text": [
      "enter the number of rows 5\n"
     ]
    },
    {
     "name": "stdout",
     "output_type": "stream",
     "text": [
      "* \n",
      "* * \n",
      "* * * \n",
      "* * * * \n",
      "* * * * * \n"
     ]
    }
   ],
   "source": [
    "x=int(input('enter the number of rows'))\n",
    "i=1\n",
    "while i<=x:\n",
    "    j=1\n",
    "    while j<=i:\n",
    "        print('*',end=' ')\n",
    "        j+=1\n",
    "    print()\n",
    "    i+=1\n",
    "        "
   ]
  },
  {
   "cell_type": "code",
   "execution_count": 9,
   "id": "42fcb2f7-d2d4-4355-a030-e7a08eda8838",
   "metadata": {},
   "outputs": [
    {
     "name": "stdin",
     "output_type": "stream",
     "text": [
      "Enter the number of rows 5\n"
     ]
    },
    {
     "name": "stdout",
     "output_type": "stream",
     "text": [
      "* * * * * \n",
      "* * * * \n",
      "* * * \n",
      "* * \n",
      "* \n"
     ]
    }
   ],
   "source": [
    "n=int(input('Enter the number of rows'))\n",
    "i=1\n",
    "while i<=n:\n",
    "    j=n\n",
    "    while j>=i:\n",
    "        print('*',end=' ')\n",
    "        j-=1\n",
    "    print()\n",
    "    i+=1"
   ]
  },
  {
   "cell_type": "markdown",
   "id": "c70b862a-d0ec-444a-bd11-e80970c9518a",
   "metadata": {},
   "source": [
    "# Break Statement"
   ]
  },
  {
   "cell_type": "code",
   "execution_count": 12,
   "id": "7c369086-7608-41a9-806a-965f2958eba6",
   "metadata": {},
   "outputs": [
    {
     "name": "stdout",
     "output_type": "stream",
     "text": [
      "Inside else\n",
      "Inside else\n",
      "Inside else\n",
      "Inside else\n",
      "Inside else\n",
      "Inside else\n",
      "Inside else\n",
      "Inside else\n",
      "Inside if\n",
      "Done\n"
     ]
    }
   ],
   "source": [
    "n=10\n",
    "i=1\n",
    "while True:\n",
    "    if i%9==0:\n",
    "        print('Inside if')\n",
    "        break\n",
    "        \n",
    "    else:\n",
    "        print('Inside else')\n",
    "        i+=1\n",
    "\n",
    "print('Done')"
   ]
  },
  {
   "cell_type": "code",
   "execution_count": 13,
   "id": "281f2d91-c912-489e-bc91-2a538a0c5822",
   "metadata": {},
   "outputs": [
    {
     "name": "stdout",
     "output_type": "stream",
     "text": [
      "1\n",
      "2\n",
      "3\n",
      "4\n",
      "5\n",
      "6\n",
      "7\n",
      "8\n",
      "9\n",
      "10\n",
      "Done\n"
     ]
    }
   ],
   "source": [
    "\"\"\" Enter the value till number 10\"\"\"\n",
    "\n",
    "n=10\n",
    "i=1\n",
    "while i<=10:\n",
    "    print(i)\n",
    "    i+=1\n",
    "    if i==11:\n",
    "        break\n",
    "\n",
    "print('Done')"
   ]
  },
  {
   "cell_type": "markdown",
   "id": "fa2448d7-032e-4972-ba66-fead46657a3e",
   "metadata": {},
   "source": [
    "# Continue Statement"
   ]
  },
  {
   "cell_type": "code",
   "execution_count": 14,
   "id": "3af0053a-0504-46ee-b879-52aafb3c212b",
   "metadata": {},
   "outputs": [
    {
     "name": "stdout",
     "output_type": "stream",
     "text": [
      "Inside if\n",
      "Inside if\n",
      "Inside if\n",
      "Inside if\n",
      "Inside if\n",
      "Inside if\n",
      "Inside if\n",
      "Inside if\n",
      "Something\n",
      "Something else\n",
      "Done\n"
     ]
    }
   ],
   "source": [
    "n=10\n",
    "i=1\n",
    "while True:\n",
    "    if i%9!=0:\n",
    "        print('Inside if')\n",
    "        i+=1\n",
    "        continue\n",
    "    print('Something')\n",
    "    print('Something else')\n",
    "    break\n",
    "\n",
    "print('Done')"
   ]
  },
  {
   "cell_type": "code",
   "execution_count": 15,
   "id": "be46be20-781e-49f8-be8c-c919b09bee74",
   "metadata": {},
   "outputs": [
    {
     "name": "stdin",
     "output_type": "stream",
     "text": [
      "Enter the value 6\n"
     ]
    },
    {
     "name": "stdout",
     "output_type": "stream",
     "text": [
      "22\n",
      "222\n",
      "2222\n",
      "22222\n",
      "222222\n",
      "2222222\n",
      "done\n"
     ]
    }
   ],
   "source": [
    "\"\"\" Write a program to print a series of 22,222,2222,22222,222222 till the value given by user\"\"\"\n",
    "\n",
    "n=int(input('Enter the value'))\n",
    "i=1\n",
    "p=2\n",
    "while i<=n:\n",
    "    p=(p*10)+2\n",
    "    print(p)\n",
    "    i+=1\n",
    "    continue\n",
    "    print('This is the series')\n",
    "    break\n",
    "print('done')"
   ]
  },
  {
   "cell_type": "markdown",
   "id": "44d430f5-112e-4fbe-a36b-e3b53a9a6da3",
   "metadata": {},
   "source": [
    "# For loop"
   ]
  },
  {
   "cell_type": "code",
   "execution_count": 31,
   "id": "a9105f9b-846d-42af-928d-6ad43aaa4eee",
   "metadata": {},
   "outputs": [
    {
     "name": "stdout",
     "output_type": "stream",
     "text": [
      "1\n",
      "2\n",
      "3\n",
      "4\n",
      "5\n",
      "6\n",
      "7\n",
      "8\n",
      "9\n",
      "10\n",
      "[0, 1, 4, 9, 16, 25, 36, 49, 64, 81]\n"
     ]
    }
   ],
   "source": [
    "\"\"\" Write a program and to print the square of the number till 10\"\"\"\n",
    "\n",
    "l=[]\n",
    "for i in range(10):\n",
    "    print(i+1)\n",
    "    l.append(i**2)\n",
    "print(l)"
   ]
  },
  {
   "cell_type": "code",
   "execution_count": 32,
   "id": "3b996297-f155-488a-8154-eeffec74d5e9",
   "metadata": {},
   "outputs": [
    {
     "name": "stdout",
     "output_type": "stream",
     "text": [
      "1\n",
      "3\n",
      "5\n",
      "7\n",
      "9\n",
      "[0, 4, 16, 36, 64]\n"
     ]
    }
   ],
   "source": [
    "L=[]\n",
    "for i in range(0,10,2):\n",
    "    print(i+1)\n",
    "    L.append(i**2)\n",
    "print(L)"
   ]
  },
  {
   "cell_type": "code",
   "execution_count": 35,
   "id": "0af57cdd-961d-441e-af5b-cf4d73aa9dad",
   "metadata": {},
   "outputs": [
    {
     "name": "stdout",
     "output_type": "stream",
     "text": [
      "The list of positive numbers are  [24, 89, 12, 36, 1, 2, 3, 4]\n",
      "The list of negative numbers are [-15, -85, -2, -9, -31]\n"
     ]
    }
   ],
   "source": [
    "\"\"\"Write a program to separate positive and negative integers from the list\"\"\"\n",
    "\n",
    "l=[24,-15,89,12,36,-85,-2,-9,-31,1,2,3,4]\n",
    "l1=[]\n",
    "l2=[]\n",
    "for i in range(13):\n",
    "    if l[i]>=0:\n",
    "        l1.append(l[i])\n",
    "    else:\n",
    "        l2.append(l[i])\n",
    "print('The list of positive numbers are ',l1)\n",
    "print('The list of negative numbers are',l2)"
   ]
  },
  {
   "cell_type": "code",
   "execution_count": 38,
   "id": "96349e59-570f-4da4-bf8f-e44393bfd743",
   "metadata": {},
   "outputs": [
    {
     "name": "stdout",
     "output_type": "stream",
     "text": [
      "[24, 2, 6, 8, 46, 50]\n",
      "[23, 1, 3, 7, 9, 57, 59, 33, 25]\n"
     ]
    }
   ],
   "source": [
    "\"\"\" Write a program to separate even numbers and odd numbers from the list\"\"\"\n",
    "\n",
    "l=[24,23,1,2,3,6,8,7,9,57,59,33,46,25,50]\n",
    "l3=[]\n",
    "l4=[]\n",
    "for i in range(15):\n",
    "    if l[i]%2==0:\n",
    "        l3.append(l[i])\n",
    "    else:\n",
    "        l4.append(l[i])\n",
    "print(l3)\n",
    "print(l4)\n",
    "\n"
   ]
  },
  {
   "cell_type": "code",
   "execution_count": 39,
   "id": "01cca435-2e41-479b-9c6d-1874c18bfd39",
   "metadata": {},
   "outputs": [
    {
     "name": "stdout",
     "output_type": "stream",
     "text": [
      "2.56\n",
      "Apple\n",
      "pen\n",
      "Loop terminated\n",
      "Done\n"
     ]
    }
   ],
   "source": [
    "s={'Apple',2.56,'pen'}\n",
    "\n",
    "for x in s:\n",
    "    print(x)\n",
    "else:\n",
    "    print('Loop terminated')\n",
    "print('Done')"
   ]
  },
  {
   "cell_type": "code",
   "execution_count": 42,
   "id": "a11657da-a210-4d46-a136-63b026312168",
   "metadata": {},
   "outputs": [
    {
     "name": "stdout",
     "output_type": "stream",
     "text": [
      "A 45\n",
      "B 78\n",
      "77 c\n"
     ]
    }
   ],
   "source": [
    "d={'A':45,'B':78,77:'c'}\n",
    "for x in d:\n",
    "    print(x,d[x])"
   ]
  },
  {
   "cell_type": "markdown",
   "id": "d951ce9a-3cac-4083-ad07-6c24f172b7da",
   "metadata": {},
   "source": [
    "# Nested for loop"
   ]
  },
  {
   "cell_type": "code",
   "execution_count": 44,
   "id": "dd1ec360-aac9-4156-b55d-5ef6aa0a8e15",
   "metadata": {},
   "outputs": [
    {
     "name": "stdin",
     "output_type": "stream",
     "text": [
      "Enter the string : my name is bhopendra chaudhary am learning python\n"
     ]
    },
    {
     "name": "stdout",
     "output_type": "stream",
     "text": [
      "['m', 'y', ' ', 'n', 'a', 'm', 'e', ' ', 'i', 's', ' ', 'b', 'h', 'o', 'p', 'e', 'n', 'd', 'r', 'a', ' ', 'c', 'h', 'a', 'u', 'd', 'h', 'a', 'r', 'y', ' ', 'a', 'm', ' ', 'l', 'e', 'a', 'r', 'n', 'i', 'n', 'g', ' ', 'p', 'y', 't', 'h', 'o', 'n']\n",
      "a vowel is in the string\n",
      "1\n",
      "a vowel is in the string\n",
      "2\n",
      "a vowel is in the string\n",
      "3\n",
      "a vowel is in the string\n",
      "4\n",
      "a vowel is in the string\n",
      "5\n",
      "a vowel is in the string\n",
      "6\n",
      "e vowel is in the string\n",
      "1\n",
      "e vowel is in the string\n",
      "2\n",
      "e vowel is in the string\n",
      "3\n",
      "i vowel is in the string\n",
      "1\n",
      "i vowel is in the string\n",
      "2\n",
      "o vowel is in the string\n",
      "1\n",
      "o vowel is in the string\n",
      "2\n",
      "u vowel is in the string\n",
      "1\n"
     ]
    }
   ],
   "source": [
    "\"\"\" ask user to enter a string amd filter out vowels in the string\"\"\"\n",
    "\n",
    "L= []\n",
    "P=input('Enter the string :')\n",
    "for i in range(len(P)):\n",
    "    L.append(P[i])\n",
    "print(L)\n",
    "count=0\n",
    "for i in range(len(L)):\n",
    "    if L[i]=='a':\n",
    "        print('a vowel is in the string')\n",
    "        count+=1\n",
    "        print(count)\n",
    "count=0\n",
    "for i in range(len(L)):\n",
    "    if L[i]=='e':\n",
    "        print('e vowel is in the string')\n",
    "        count+=1\n",
    "        print(count)\n",
    "count=0\n",
    "for i in range(len(L)):\n",
    "    if L[i]=='i':\n",
    "        print('i vowel is in the string')\n",
    "        count+=1\n",
    "        print(count)\n",
    "count=0\n",
    "for i in range(len(L)):\n",
    "    if L[i]=='o':\n",
    "        print('o vowel is in the string')\n",
    "        count+=1\n",
    "        print(count)\n",
    "count=0\n",
    "for i in range(len(L)):\n",
    "    if L[i]=='u':\n",
    "        print('u vowel is in the string')\n",
    "        count+=1\n",
    "        print(count)\n",
    "        "
   ]
  },
  {
   "cell_type": "code",
   "execution_count": null,
   "id": "6b840033-77b2-4745-a24a-8f3ed76d5488",
   "metadata": {},
   "outputs": [],
   "source": []
  },
  {
   "cell_type": "code",
   "execution_count": null,
   "id": "ca7cd212-db7f-41dd-bf07-9a692a4a3bb0",
   "metadata": {},
   "outputs": [],
   "source": []
  },
  {
   "cell_type": "code",
   "execution_count": null,
   "id": "e0009adb-bd31-4205-90a8-eee7d3cd5fff",
   "metadata": {},
   "outputs": [],
   "source": []
  },
  {
   "cell_type": "code",
   "execution_count": null,
   "id": "6112b1bb-0968-4241-9c8e-d03e6467ca99",
   "metadata": {},
   "outputs": [],
   "source": []
  },
  {
   "cell_type": "code",
   "execution_count": null,
   "id": "f0135818-5868-43d7-aab2-acaaec461cb0",
   "metadata": {},
   "outputs": [],
   "source": []
  },
  {
   "cell_type": "code",
   "execution_count": null,
   "id": "a07e2945-7297-4433-9765-aa12f2b9609f",
   "metadata": {},
   "outputs": [],
   "source": []
  },
  {
   "cell_type": "code",
   "execution_count": null,
   "id": "7816c00a-e294-45c2-b9b3-40aab1b9083c",
   "metadata": {},
   "outputs": [],
   "source": []
  },
  {
   "cell_type": "code",
   "execution_count": null,
   "id": "b8cb6fdd-1769-45d5-a6a1-5b4d3e09f61d",
   "metadata": {},
   "outputs": [],
   "source": []
  },
  {
   "cell_type": "code",
   "execution_count": null,
   "id": "ec811e50-2f98-43d9-8019-72dd2cd74735",
   "metadata": {},
   "outputs": [],
   "source": []
  },
  {
   "cell_type": "code",
   "execution_count": null,
   "id": "6ed170be-ac4c-4402-860f-30be8757fda4",
   "metadata": {},
   "outputs": [],
   "source": []
  }
 ],
 "metadata": {
  "kernelspec": {
   "display_name": "Python 3 (ipykernel)",
   "language": "python",
   "name": "python3"
  },
  "language_info": {
   "codemirror_mode": {
    "name": "ipython",
    "version": 3
   },
   "file_extension": ".py",
   "mimetype": "text/x-python",
   "name": "python",
   "nbconvert_exporter": "python",
   "pygments_lexer": "ipython3",
   "version": "3.11.5"
  }
 },
 "nbformat": 4,
 "nbformat_minor": 5
}
