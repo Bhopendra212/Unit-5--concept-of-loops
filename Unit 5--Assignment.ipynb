{
 "cells": [
  {
   "cell_type": "markdown",
   "id": "0bc32faf-35ce-491e-bbba-3fa6649861d3",
   "metadata": {},
   "source": [
    "# Question 1 :- Print n natural number in descending order using a while loop"
   ]
  },
  {
   "cell_type": "code",
   "execution_count": 8,
   "id": "8f180159-fe38-4c6b-acfe-98872efc43ce",
   "metadata": {},
   "outputs": [
    {
     "name": "stdin",
     "output_type": "stream",
     "text": [
      "Enter the range: 10\n"
     ]
    },
    {
     "name": "stdout",
     "output_type": "stream",
     "text": [
      "10 9 8 7 6 5 4 3 2 1 "
     ]
    }
   ],
   "source": [
    "a=int(input('Enter the range:'))\n",
    "while a!=0:\n",
    "    print(a,end=' ')\n",
    "    a-=1"
   ]
  },
  {
   "cell_type": "markdown",
   "id": "9bd22478-1bf5-4789-9727-e3a48e2274b2",
   "metadata": {},
   "source": [
    "# Question 2 :- Program to append the square of each number to a new list"
   ]
  },
  {
   "cell_type": "code",
   "execution_count": 12,
   "id": "0b280814-c489-40d4-89b5-538d26423680",
   "metadata": {},
   "outputs": [
    {
     "name": "stdout",
     "output_type": "stream",
     "text": [
      "Result: [4, 9, 16, 25, 36, 49, 64]\n"
     ]
    }
   ],
   "source": [
    "x=[2,3,4,5,6,7,8]\n",
    "l=[]\n",
    "for i in range(len(x)):\n",
    "    l.append(x[i]**2)\n",
    "print(\"Result:\",l)"
   ]
  },
  {
   "cell_type": "markdown",
   "id": "ef5f1fba-9911-4bd6-bc63-286e248b512b",
   "metadata": {},
   "source": [
    "# Question 3 :- Program to append the type of elements in the list"
   ]
  },
  {
   "cell_type": "code",
   "execution_count": 15,
   "id": "68229554-f55f-4398-a1fe-43ebda7ce045",
   "metadata": {},
   "outputs": [
    {
     "name": "stdout",
     "output_type": "stream",
     "text": [
      "[23, 'Python', 23.98]\n",
      "[<class 'int'>, <class 'str'>, <class 'float'>]\n"
     ]
    }
   ],
   "source": [
    "n=[23,'Python',23.98]\n",
    "x=[]\n",
    "for i in range(len(n)):\n",
    "    x.append(type(n[i]))\n",
    "print(n)\n",
    "print(x)    "
   ]
  },
  {
   "cell_type": "markdown",
   "id": "1d5c5e84-3121-4d87-8963-4ffb3ba52ac5",
   "metadata": {},
   "source": [
    "# Question 4 :- Filter even and odd number from the list"
   ]
  },
  {
   "cell_type": "code",
   "execution_count": 17,
   "id": "99e56332-99ad-463d-8972-a2b5ab3bcb35",
   "metadata": {},
   "outputs": [
    {
     "name": "stdout",
     "output_type": "stream",
     "text": [
      "The even number is: [10, 24, 78, 90]\n",
      "The odd number is: [23, 35, 65]\n"
     ]
    }
   ],
   "source": [
    "x=[10,23,24,35,65,78,90]\n",
    "a=[]\n",
    "b=[]\n",
    "for i in range(7):\n",
    "    if x[i]%2==0:\n",
    "        a.append(x[i])\n",
    "    else:\n",
    "        b.append(x[i])\n",
    "print('The even number is:',a)\n",
    "print('The odd number is:',b)"
   ]
  },
  {
   "cell_type": "markdown",
   "id": "5bc67977-3d87-425a-a27e-95d87782e8dc",
   "metadata": {},
   "source": [
    "# Question 5:- Program to convert the month name into number of days"
   ]
  },
  {
   "cell_type": "code",
   "execution_count": 18,
   "id": "a25f9644-b0fd-4dc7-953e-1cc462bb5902",
   "metadata": {},
   "outputs": [
    {
     "name": "stdout",
     "output_type": "stream",
     "text": [
      "The month of Janurary has 31 days\n",
      "The month of April has 30 days\n",
      "The month of June has 30 days\n",
      "The month of August has 31 days\n",
      "The month of November has 30 days\n"
     ]
    }
   ],
   "source": [
    "m=['Janurary','April','June','August','November',]\n",
    "\n",
    "for i in m:\n",
    "    if i=='February':\n",
    "        print('The month of February has 28/29 days')\n",
    "    elif i in ('April','June','September','November'):\n",
    "        print('The month of',i,'has 30 days')\n",
    "    elif i in ('Janurary','March','May','July','August','october','December'):\n",
    "        print('The month of',i,'has 31 days')\n",
    "    else:\n",
    "        print(i,'is not a valid month name')\n",
    "\n"
   ]
  },
  {
   "cell_type": "markdown",
   "id": "a495cc30-dfa2-43e9-b185-96219a8c6243",
   "metadata": {},
   "source": [
    "# Question 6 :- Accept the word from the user and reverse it"
   ]
  },
  {
   "cell_type": "code",
   "execution_count": 19,
   "id": "a641c44a-b3d2-4f14-bce4-5af6e9b2b8ff",
   "metadata": {},
   "outputs": [
    {
     "name": "stdin",
     "output_type": "stream",
     "text": [
      "Enter the string: abcdef\n"
     ]
    },
    {
     "name": "stdout",
     "output_type": "stream",
     "text": [
      "fedcba\n"
     ]
    }
   ],
   "source": [
    "a=input('Enter the string:')\n",
    "b=''\n",
    "for i in a:\n",
    "    b=i+b\n",
    "\n",
    "print(b)"
   ]
  },
  {
   "cell_type": "code",
   "execution_count": 33,
   "id": "649fd507-853c-46d1-b1d2-02286a61d7dd",
   "metadata": {},
   "outputs": [
    {
     "name": "stdin",
     "output_type": "stream",
     "text": [
      "Enter the string Python\n"
     ]
    },
    {
     "name": "stdout",
     "output_type": "stream",
     "text": [
      "nohtyP\n"
     ]
    }
   ],
   "source": [
    "\"\"\" I tried using Slicing function\"\"\"\n",
    "\n",
    "a=input('Enter the string')\n",
    "print(a[::-1])"
   ]
  },
  {
   "cell_type": "markdown",
   "id": "4785a502-5616-46b7-97a1-d8e002beb4a4",
   "metadata": {},
   "source": [
    "# Question 7:- Count the total number of digits in a number"
   ]
  },
  {
   "cell_type": "code",
   "execution_count": 22,
   "id": "6c8bd02a-2b23-452c-9e08-454e6c040b6d",
   "metadata": {},
   "outputs": [
    {
     "name": "stdout",
     "output_type": "stream",
     "text": [
      "6\n"
     ]
    }
   ],
   "source": [
    "x='129475'\n",
    "count =0\n",
    "for i in x:\n",
    "    count+=1\n",
    "print(count)\n",
    "    "
   ]
  },
  {
   "cell_type": "markdown",
   "id": "43fe85a0-746a-4cd4-8061-4425bf5bc9af",
   "metadata": {},
   "source": [
    "# Question 8 :- Find the factorial of the given number"
   ]
  },
  {
   "cell_type": "code",
   "execution_count": 24,
   "id": "9270c843-ff73-4a89-a786-236f9275715b",
   "metadata": {},
   "outputs": [
    {
     "name": "stdin",
     "output_type": "stream",
     "text": [
      "Enter the number 6\n"
     ]
    },
    {
     "name": "stdout",
     "output_type": "stream",
     "text": [
      "The factorial of 6 is 720\n"
     ]
    }
   ],
   "source": [
    "num=int(input('Enter the number'))\n",
    "factorial=1\n",
    "if num<0:\n",
    "    print('Factorial does not exist for negative number')\n",
    "elif num==0:\n",
    "    print('Factorial of 0 is 1')\n",
    "else:\n",
    "    for i in range(1,num+1):\n",
    "        factorial=factorial*i\n",
    "    print('The factorial of',num,'is',factorial)\n",
    "        "
   ]
  },
  {
   "cell_type": "markdown",
   "id": "ee0b067e-2d83-49d3-9db9-113c9ab797b7",
   "metadata": {},
   "source": [
    "# Question 9 :- Calculate sum of series upto n terms. example, if n=5 the series will become 2+22+222+2222+22222=24690"
   ]
  },
  {
   "cell_type": "code",
   "execution_count": 26,
   "id": "cc6f1fd9-76f5-481b-ac9e-8f3b24260bb5",
   "metadata": {},
   "outputs": [
    {
     "name": "stdout",
     "output_type": "stream",
     "text": [
      "2+22+222+2222+22222+\n",
      "Sum of above series is: 24690\n"
     ]
    }
   ],
   "source": [
    "n=5\n",
    "start=2\n",
    "sum_seq=0\n",
    "\n",
    "for i in range(0,n):\n",
    "    print(start,end='+')\n",
    "    sum_seq+=start\n",
    "    start=start*10+2\n",
    "\n",
    "print('\\nSum of above series is:',sum_seq)"
   ]
  },
  {
   "cell_type": "markdown",
   "id": "6a323a9e-34dc-4ff5-b781-39262cde9a72",
   "metadata": {},
   "source": [
    "# Question 10 :- Program to display all prime numbers between 25 and 50"
   ]
  },
  {
   "cell_type": "code",
   "execution_count": 31,
   "id": "b3c69d7e-ed5c-40a7-a2f3-6073fdb66e05",
   "metadata": {},
   "outputs": [
    {
     "name": "stdout",
     "output_type": "stream",
     "text": [
      "Prime number between 25 and 50 are:\n",
      "29\n",
      "31\n",
      "37\n",
      "41\n",
      "43\n",
      "47\n"
     ]
    }
   ],
   "source": [
    "start=25\n",
    "end=50\n",
    "print('Prime number between',start,'and',end,'are:')\n",
    "for num in range(start,end+1):\n",
    "    if num>1:\n",
    "        for i in range(2,num):\n",
    "            if (num%i)==0:\n",
    "                break\n",
    "        else:\n",
    "            print(num)"
   ]
  },
  {
   "cell_type": "code",
   "execution_count": null,
   "id": "213b4af0-db87-4d5d-b519-3f65c6d14ed0",
   "metadata": {},
   "outputs": [],
   "source": []
  }
 ],
 "metadata": {
  "kernelspec": {
   "display_name": "Python 3 (ipykernel)",
   "language": "python",
   "name": "python3"
  },
  "language_info": {
   "codemirror_mode": {
    "name": "ipython",
    "version": 3
   },
   "file_extension": ".py",
   "mimetype": "text/x-python",
   "name": "python",
   "nbconvert_exporter": "python",
   "pygments_lexer": "ipython3",
   "version": "3.11.5"
  }
 },
 "nbformat": 4,
 "nbformat_minor": 5
}
